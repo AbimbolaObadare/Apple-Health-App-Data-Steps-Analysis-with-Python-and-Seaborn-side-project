{
 "cells": [
  {
   "cell_type": "markdown",
   "metadata": {},
   "source": [
    "                                                                                                Michael Gonzalez\n",
    "                                                                                Side Project with Python and Seaborn"
   ]
  },
  {
   "cell_type": "markdown",
   "metadata": {},
   "source": [
    "# Data Visualization of iPhone Health App Data with Python and Seaborn"
   ]
  },
  {
   "cell_type": "markdown",
   "metadata": {},
   "source": [
    "## Importing the libraries and data (Pandas, Seaborn and Matplotlib)"
   ]
  },
  {
   "cell_type": "code",
   "execution_count": 1,
   "metadata": {},
   "outputs": [
    {
     "data": {
      "text/html": [
       "<div>\n",
       "<style scoped>\n",
       "    .dataframe tbody tr th:only-of-type {\n",
       "        vertical-align: middle;\n",
       "    }\n",
       "\n",
       "    .dataframe tbody tr th {\n",
       "        vertical-align: top;\n",
       "    }\n",
       "\n",
       "    .dataframe thead th {\n",
       "        text-align: right;\n",
       "    }\n",
       "</style>\n",
       "<table border=\"1\" class=\"dataframe\">\n",
       "  <thead>\n",
       "    <tr style=\"text-align: right;\">\n",
       "      <th></th>\n",
       "      <th>sourceName</th>\n",
       "      <th>sourceVersion</th>\n",
       "      <th>device</th>\n",
       "      <th>type</th>\n",
       "      <th>unit</th>\n",
       "      <th>creationDate</th>\n",
       "      <th>startDate</th>\n",
       "      <th>endDate</th>\n",
       "      <th>value</th>\n",
       "    </tr>\n",
       "  </thead>\n",
       "  <tbody>\n",
       "    <tr>\n",
       "      <th>0</th>\n",
       "      <td>Kevin's iPhone</td>\n",
       "      <td>9.3</td>\n",
       "      <td>&lt;&lt;HKDevice: 0x1c4280820&gt;, name:iPhone, manufac...</td>\n",
       "      <td>StepCount</td>\n",
       "      <td>count</td>\n",
       "      <td>2016-04-09 14:47:16 -0500</td>\n",
       "      <td>2016-04-09 14:17:53 -0500</td>\n",
       "      <td>2016-04-09 14:23:02 -0500</td>\n",
       "      <td>34</td>\n",
       "    </tr>\n",
       "    <tr>\n",
       "      <th>1</th>\n",
       "      <td>Kevin's iPhone</td>\n",
       "      <td>9.3</td>\n",
       "      <td>&lt;&lt;HKDevice: 0x1c428e290&gt;, name:iPhone, manufac...</td>\n",
       "      <td>StepCount</td>\n",
       "      <td>count</td>\n",
       "      <td>2016-04-09 14:47:16 -0500</td>\n",
       "      <td>2016-04-09 14:23:02 -0500</td>\n",
       "      <td>2016-04-09 14:23:20 -0500</td>\n",
       "      <td>14</td>\n",
       "    </tr>\n",
       "    <tr>\n",
       "      <th>2</th>\n",
       "      <td>Kevin's iPhone</td>\n",
       "      <td>9.3</td>\n",
       "      <td>&lt;&lt;HKDevice: 0x1c4280960&gt;, name:iPhone, manufac...</td>\n",
       "      <td>StepCount</td>\n",
       "      <td>count</td>\n",
       "      <td>2016-04-09 14:47:16 -0500</td>\n",
       "      <td>2016-04-09 14:33:17 -0500</td>\n",
       "      <td>2016-04-09 14:33:33 -0500</td>\n",
       "      <td>8</td>\n",
       "    </tr>\n",
       "    <tr>\n",
       "      <th>3</th>\n",
       "      <td>Kevin's iPhone</td>\n",
       "      <td>9.3</td>\n",
       "      <td>&lt;&lt;HKDevice: 0x1c409a770&gt;, name:iPhone, manufac...</td>\n",
       "      <td>StepCount</td>\n",
       "      <td>count</td>\n",
       "      <td>2016-04-09 15:14:57 -0500</td>\n",
       "      <td>2016-04-09 15:02:56 -0500</td>\n",
       "      <td>2016-04-09 15:03:58 -0500</td>\n",
       "      <td>8</td>\n",
       "    </tr>\n",
       "    <tr>\n",
       "      <th>4</th>\n",
       "      <td>Kevin's iPhone</td>\n",
       "      <td>9.3</td>\n",
       "      <td>&lt;&lt;HKDevice: 0x1c42875d0&gt;, name:iPhone, manufac...</td>\n",
       "      <td>StepCount</td>\n",
       "      <td>count</td>\n",
       "      <td>2016-04-09 16:17:15 -0500</td>\n",
       "      <td>2016-04-09 15:36:42 -0500</td>\n",
       "      <td>2016-04-09 15:40:53 -0500</td>\n",
       "      <td>130</td>\n",
       "    </tr>\n",
       "  </tbody>\n",
       "</table>\n",
       "</div>"
      ],
      "text/plain": [
       "       sourceName sourceVersion  \\\n",
       "0  Kevin's iPhone           9.3   \n",
       "1  Kevin's iPhone           9.3   \n",
       "2  Kevin's iPhone           9.3   \n",
       "3  Kevin's iPhone           9.3   \n",
       "4  Kevin's iPhone           9.3   \n",
       "\n",
       "                                              device       type   unit  \\\n",
       "0  <<HKDevice: 0x1c4280820>, name:iPhone, manufac...  StepCount  count   \n",
       "1  <<HKDevice: 0x1c428e290>, name:iPhone, manufac...  StepCount  count   \n",
       "2  <<HKDevice: 0x1c4280960>, name:iPhone, manufac...  StepCount  count   \n",
       "3  <<HKDevice: 0x1c409a770>, name:iPhone, manufac...  StepCount  count   \n",
       "4  <<HKDevice: 0x1c42875d0>, name:iPhone, manufac...  StepCount  count   \n",
       "\n",
       "                creationDate                  startDate  \\\n",
       "0  2016-04-09 14:47:16 -0500  2016-04-09 14:17:53 -0500   \n",
       "1  2016-04-09 14:47:16 -0500  2016-04-09 14:23:02 -0500   \n",
       "2  2016-04-09 14:47:16 -0500  2016-04-09 14:33:17 -0500   \n",
       "3  2016-04-09 15:14:57 -0500  2016-04-09 15:02:56 -0500   \n",
       "4  2016-04-09 16:17:15 -0500  2016-04-09 15:36:42 -0500   \n",
       "\n",
       "                     endDate  value  \n",
       "0  2016-04-09 14:23:02 -0500     34  \n",
       "1  2016-04-09 14:23:20 -0500     14  \n",
       "2  2016-04-09 14:33:33 -0500      8  \n",
       "3  2016-04-09 15:03:58 -0500      8  \n",
       "4  2016-04-09 15:40:53 -0500    130  "
      ]
     },
     "execution_count": 1,
     "metadata": {},
     "output_type": "execute_result"
    }
   ],
   "source": [
    "import pandas as pd\n",
    "\n",
    "import matplotlib.pyplot as plt\n",
    "\n",
    "%matplotlib inline\n",
    "\n",
    "import seaborn as sns\n",
    "\n",
    "\n",
    "# import CSV\n",
    "steps = pd.read_csv(r\"C:\\\\Users\\\\gonzm200\\\\Documents\\\\raw_data\\\\StepCount.csv\")\n",
    "steps.head()"
   ]
  },
  {
   "cell_type": "markdown",
   "metadata": {},
   "source": [
    "## Extract  the necessary columns and rename them."
   ]
  },
  {
   "cell_type": "code",
   "execution_count": 2,
   "metadata": {},
   "outputs": [],
   "source": [
    "steps = steps[['startDate', 'endDate', 'value']]\n",
    "steps.columns = ['start', 'end', 'steps']"
   ]
  },
  {
   "cell_type": "markdown",
   "metadata": {},
   "source": [
    "## Remove the time zone from the date string, and convert to them to datetime objects. "
   ]
  },
  {
   "cell_type": "code",
   "execution_count": 3,
   "metadata": {},
   "outputs": [
    {
     "data": {
      "text/html": [
       "<div>\n",
       "<style scoped>\n",
       "    .dataframe tbody tr th:only-of-type {\n",
       "        vertical-align: middle;\n",
       "    }\n",
       "\n",
       "    .dataframe tbody tr th {\n",
       "        vertical-align: top;\n",
       "    }\n",
       "\n",
       "    .dataframe thead th {\n",
       "        text-align: right;\n",
       "    }\n",
       "</style>\n",
       "<table border=\"1\" class=\"dataframe\">\n",
       "  <thead>\n",
       "    <tr style=\"text-align: right;\">\n",
       "      <th></th>\n",
       "      <th>start</th>\n",
       "      <th>end</th>\n",
       "      <th>steps</th>\n",
       "    </tr>\n",
       "  </thead>\n",
       "  <tbody>\n",
       "    <tr>\n",
       "      <th>0</th>\n",
       "      <td>2016-04-09 14:17:53</td>\n",
       "      <td>2016-04-09 14:23:02</td>\n",
       "      <td>34</td>\n",
       "    </tr>\n",
       "    <tr>\n",
       "      <th>1</th>\n",
       "      <td>2016-04-09 14:23:02</td>\n",
       "      <td>2016-04-09 14:23:20</td>\n",
       "      <td>14</td>\n",
       "    </tr>\n",
       "    <tr>\n",
       "      <th>2</th>\n",
       "      <td>2016-04-09 14:33:17</td>\n",
       "      <td>2016-04-09 14:33:33</td>\n",
       "      <td>8</td>\n",
       "    </tr>\n",
       "    <tr>\n",
       "      <th>3</th>\n",
       "      <td>2016-04-09 15:02:56</td>\n",
       "      <td>2016-04-09 15:03:58</td>\n",
       "      <td>8</td>\n",
       "    </tr>\n",
       "    <tr>\n",
       "      <th>4</th>\n",
       "      <td>2016-04-09 15:36:42</td>\n",
       "      <td>2016-04-09 15:40:53</td>\n",
       "      <td>130</td>\n",
       "    </tr>\n",
       "  </tbody>\n",
       "</table>\n",
       "</div>"
      ],
      "text/plain": [
       "                start                 end  steps\n",
       "0 2016-04-09 14:17:53 2016-04-09 14:23:02     34\n",
       "1 2016-04-09 14:23:02 2016-04-09 14:23:20     14\n",
       "2 2016-04-09 14:33:17 2016-04-09 14:33:33      8\n",
       "3 2016-04-09 15:02:56 2016-04-09 15:03:58      8\n",
       "4 2016-04-09 15:36:42 2016-04-09 15:40:53    130"
      ]
     },
     "execution_count": 3,
     "metadata": {},
     "output_type": "execute_result"
    }
   ],
   "source": [
    "steps.start = pd.to_datetime(steps.start.apply(lambda x: x[:-6]))\n",
    "steps.end = pd.to_datetime(steps.end.apply(lambda x: x[:-6]))\n",
    "\n",
    "steps.head()"
   ]
  },
  {
   "cell_type": "code",
   "execution_count": 4,
   "metadata": {},
   "outputs": [
    {
     "data": {
      "text/html": [
       "<div>\n",
       "<style scoped>\n",
       "    .dataframe tbody tr th:only-of-type {\n",
       "        vertical-align: middle;\n",
       "    }\n",
       "\n",
       "    .dataframe tbody tr th {\n",
       "        vertical-align: top;\n",
       "    }\n",
       "\n",
       "    .dataframe thead th {\n",
       "        text-align: right;\n",
       "    }\n",
       "</style>\n",
       "<table border=\"1\" class=\"dataframe\">\n",
       "  <thead>\n",
       "    <tr style=\"text-align: right;\">\n",
       "      <th></th>\n",
       "      <th>steps</th>\n",
       "    </tr>\n",
       "    <tr>\n",
       "      <th>time</th>\n",
       "      <th></th>\n",
       "    </tr>\n",
       "  </thead>\n",
       "  <tbody>\n",
       "    <tr>\n",
       "      <th>2016-04-09 14:00</th>\n",
       "      <td>56</td>\n",
       "    </tr>\n",
       "    <tr>\n",
       "      <th>2016-04-09 15:00</th>\n",
       "      <td>152</td>\n",
       "    </tr>\n",
       "    <tr>\n",
       "      <th>2016-04-09 16:00</th>\n",
       "      <td>120</td>\n",
       "    </tr>\n",
       "    <tr>\n",
       "      <th>2016-04-09 17:00</th>\n",
       "      <td>322</td>\n",
       "    </tr>\n",
       "    <tr>\n",
       "      <th>2016-04-09 20:00</th>\n",
       "      <td>25</td>\n",
       "    </tr>\n",
       "  </tbody>\n",
       "</table>\n",
       "</div>"
      ],
      "text/plain": [
       "                  steps\n",
       "time                   \n",
       "2016-04-09 14:00     56\n",
       "2016-04-09 15:00    152\n",
       "2016-04-09 16:00    120\n",
       "2016-04-09 17:00    322\n",
       "2016-04-09 20:00     25"
      ]
     },
     "execution_count": 4,
     "metadata": {},
     "output_type": "execute_result"
    }
   ],
   "source": [
    "hourly = steps.copy()\n",
    "hourly['time'] = hourly.start + (hourly.end - hourly.start)/2\n",
    "del hourly['start'], hourly['end']\n",
    "hourly = hourly.groupby(hourly.time.dt.strftime(\"%Y-%m-%d %H:00\")).sum()\n",
    "\n",
    "hourly.to_csv(\"hourly_steps.csv\")\n",
    "hourly.head()"
   ]
  },
  {
   "cell_type": "markdown",
   "metadata": {},
   "source": [
    "## Getting the daily steps "
   ]
  },
  {
   "cell_type": "code",
   "execution_count": 5,
   "metadata": {},
   "outputs": [
    {
     "data": {
      "text/plain": [
       "<matplotlib.axes._subplots.AxesSubplot at 0xedef390>"
      ]
     },
     "execution_count": 5,
     "metadata": {},
     "output_type": "execute_result"
    },
    {
     "data": {
      "image/png": "[encoded data removed]",
      "text/plain": [
       "<Figure size 432x288 with 1 Axes>"
      ]
     },
     "metadata": {
      "needs_background": "light"
     },
     "output_type": "display_data"
    }
   ],
   "source": [
    "daily = steps.groupby(steps.start.dt.normalize()).sum()\n",
    "daily.head()\n",
    "\n",
    "daily.plot()"
   ]
  },
  {
   "cell_type": "code",
   "execution_count": 6,
   "metadata": {},
   "outputs": [
    {
     "data": {
      "text/html": [
       "<div>\n",
       "<style scoped>\n",
       "    .dataframe tbody tr th:only-of-type {\n",
       "        vertical-align: middle;\n",
       "    }\n",
       "\n",
       "    .dataframe tbody tr th {\n",
       "        vertical-align: top;\n",
       "    }\n",
       "\n",
       "    .dataframe thead th {\n",
       "        text-align: right;\n",
       "    }\n",
       "</style>\n",
       "<table border=\"1\" class=\"dataframe\">\n",
       "  <thead>\n",
       "    <tr style=\"text-align: right;\">\n",
       "      <th></th>\n",
       "      <th>steps</th>\n",
       "      <th>dayofweek</th>\n",
       "    </tr>\n",
       "    <tr>\n",
       "      <th>start</th>\n",
       "      <th></th>\n",
       "      <th></th>\n",
       "    </tr>\n",
       "  </thead>\n",
       "  <tbody>\n",
       "    <tr>\n",
       "      <th>2016-04-09</th>\n",
       "      <td>701</td>\n",
       "      <td>Saturday</td>\n",
       "    </tr>\n",
       "    <tr>\n",
       "      <th>2016-04-10</th>\n",
       "      <td>3140</td>\n",
       "      <td>Sunday</td>\n",
       "    </tr>\n",
       "    <tr>\n",
       "      <th>2016-04-11</th>\n",
       "      <td>8827</td>\n",
       "      <td>Monday</td>\n",
       "    </tr>\n",
       "    <tr>\n",
       "      <th>2016-04-12</th>\n",
       "      <td>9013</td>\n",
       "      <td>Tuesday</td>\n",
       "    </tr>\n",
       "    <tr>\n",
       "      <th>2016-04-13</th>\n",
       "      <td>7085</td>\n",
       "      <td>Wednesday</td>\n",
       "    </tr>\n",
       "  </tbody>\n",
       "</table>\n",
       "</div>"
      ],
      "text/plain": [
       "            steps  dayofweek\n",
       "start                       \n",
       "2016-04-09    701   Saturday\n",
       "2016-04-10   3140     Sunday\n",
       "2016-04-11   8827     Monday\n",
       "2016-04-12   9013    Tuesday\n",
       "2016-04-13   7085  Wednesday"
      ]
     },
     "execution_count": 6,
     "metadata": {},
     "output_type": "execute_result"
    }
   ],
   "source": [
    "daily['dayofweek'] = daily.index.strftime('%A')\n",
    "daily.head()"
   ]
  },
  {
   "cell_type": "markdown",
   "metadata": {},
   "source": [
    "## Creating a box plot of the daily steps  "
   ]
  },
  {
   "cell_type": "code",
   "execution_count": 7,
   "metadata": {},
   "outputs": [
    {
     "data": {
      "text/plain": [
       "Text(0,0.5,'Steps')"
      ]
     },
     "execution_count": 7,
     "metadata": {},
     "output_type": "execute_result"
    },
    {
     "data": {
      "image/png": "[encoded data removed]",
      "text/plain": [
       "<Figure size 720x720 with 1 Axes>"
      ]
     },
     "metadata": {
      "needs_background": "light"
     },
     "output_type": "display_data"
    }
   ],
   "source": [
    "plt.figure(figsize=(10, 10))\n",
    "ax = sns.boxplot(x='dayofweek', y='steps', data=daily, order=['Sunday', 'Monday', 'Tuesday', 'Wednesday', 'Thursday', 'Friday', 'Saturday'])\n",
    "ax.set_xlabel(\"Day of Week\")\n",
    "ax.set_ylabel(\"Steps\")"
   ]
  }
 ],
 "metadata": {
  "kernelspec": {
   "display_name": "Python 2",
   "language": "python",
   "name": "python2"
  },
  "language_info": {
   "codemirror_mode": {
    "name": "ipython",
    "version": 2
   },
   "file_extension": ".py",
   "mimetype": "text/x-python",
   "name": "python",
   "nbconvert_exporter": "python",
   "pygments_lexer": "ipython2",
   "version": "2.7.16"
  }
 },
 "nbformat": 4,
 "nbformat_minor": 2
}
